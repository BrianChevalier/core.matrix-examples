{
 "cells": [
  {
   "cell_type": "markdown",
   "metadata": {},
   "source": [
    "# python & core.matrix\n",
    "\n",
    "Note: initial kernel start up performance will take 5-10s."
   ]
  },
  {
   "cell_type": "code",
   "execution_count": null,
   "metadata": {},
   "outputs": [],
   "source": [
    "(ns my.namespace\n",
    "    (:require [clojure.core.matrix :as m]\n",
    "              [libpython-clj.python :refer [py. py.. py.-] :as py]\n",
    "              [libpython-clj.require :refer [require-python]]\n",
    "              [numpy-clj.core]))\n",
    "(require-python '[numpy :as np])"
   ]
  },
  {
   "cell_type": "code",
   "execution_count": null,
   "metadata": {},
   "outputs": [],
   "source": [
    "(m/add (np/array [0 1 2])\n",
    "       (m/array [0 1 2]))"
   ]
  },
  {
   "cell_type": "code",
   "execution_count": null,
   "metadata": {},
   "outputs": [],
   "source": [
    "(np/linspace 0 5 5)"
   ]
  },
  {
   "cell_type": "code",
   "execution_count": null,
   "metadata": {},
   "outputs": [],
   "source": [
    "(m/select\n",
    " (m/array [[0 1 2] [3 4 5]]) [0 1] 0)"
   ]
  }
 ],
 "metadata": {
  "kernelspec": {
   "display_name": "Clojure (deps-edn)",
   "language": "clojure",
   "name": "deps-edn"
  },
  "language_info": {
   "file_extension": ".clj",
   "mimetype": "text/x-clojure",
   "name": "clojure",
   "version": "1.10.1"
  }
 },
 "nbformat": 4,
 "nbformat_minor": 4
}
