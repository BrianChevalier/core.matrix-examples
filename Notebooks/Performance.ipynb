{
 "cells": [
  {
   "cell_type": "markdown",
   "metadata": {},
   "source": [
    "# Compare Implementation Performance\n",
    "\n",
    "This notebook uses [criterium](https://github.com/hugoduncan/criterium) to test implementation performance below. The available core.matrix implementations are listed below\n",
    "\n",
    "| Implementation | Key |  |\n",
    "| -- | -- | -- |\n",
    "| [numpy-clj](https://github.com/BrianChevalier/numpy-clj)| `:numpy-clj`  |   |\n",
    "| [vectorz-clj](https://github.com/mikera/vectorz-clj)| `:vectorz` | |\n",
    "| [clatrix](https://github.com/tel/clatrix) | `:clatrix` |\n",
    "| [NDArray](https://github.com/mikera/core.matrix) | `:ndarray` |\n",
    "| persistent vector | `:persistent-vector` |\n",
    "| [nd4clj](https://github.com/ds923y/nd4clj) | `:nd4j` |\n",
    "| [Al-jabr](https://github.com/originrose/aljabr) | `:aljabr`\n"
   ]
  },
  {
   "cell_type": "code",
   "execution_count": null,
   "metadata": {},
   "outputs": [],
   "source": [
    "(ns my.namespace\n",
    "    (:require [clojure.core.matrix :as mat]\n",
    "              [clojure.core.matrix.linear :as lin]\n",
    "              [criterium.core :as c]\n",
    "              [libpython-clj.require :refer [require-python]]\n",
    "              [numpy-clj.core]))\n",
    "(require-python '[numpy :as np])"
   ]
  },
  {
   "cell_type": "code",
   "execution_count": null,
   "metadata": {},
   "outputs": [],
   "source": [
    "(defn add []\n",
    "    (mat/add (mat/array [0 1 2]) (mat/array [0 1 2])))"
   ]
  },
  {
   "cell_type": "code",
   "execution_count": null,
   "metadata": {},
   "outputs": [],
   "source": [
    "(mat/with-implementation :vectorz\n",
    "  (c/quick-bench (add)))"
   ]
  },
  {
   "cell_type": "markdown",
   "metadata": {},
   "source": [
    "## Numpy & Numpy-clj performance"
   ]
  },
  {
   "cell_type": "code",
   "execution_count": null,
   "metadata": {},
   "outputs": [],
   "source": [
    "(mat/with-implementation :numpy-clj\n",
    "  (c/quick-bench (add)))"
   ]
  },
  {
   "cell_type": "code",
   "execution_count": null,
   "metadata": {},
   "outputs": [],
   "source": [
    "(c/quick-bench (np/add (np/array [0 1 2]) (np/array [0 1 2])))"
   ]
  },
  {
   "cell_type": "code",
   "execution_count": null,
   "metadata": {},
   "outputs": [],
   "source": [
    "(c/quick-bench (np/add [0 1 2] [0 1 2]))"
   ]
  }
 ],
 "metadata": {
  "kernelspec": {
   "display_name": "Clojure (deps-edn)",
   "language": "clojure",
   "name": "deps-edn"
  },
  "language_info": {
   "file_extension": ".clj",
   "mimetype": "text/x-clojure",
   "name": "clojure",
   "version": "1.10.1"
  }
 },
 "nbformat": 4,
 "nbformat_minor": 4
}
